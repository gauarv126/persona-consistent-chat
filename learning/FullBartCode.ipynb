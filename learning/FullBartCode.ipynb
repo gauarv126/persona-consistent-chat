{
 "cells": [
  {
   "cell_type": "code",
   "execution_count": 1,
   "id": "1e1d97e5",
   "metadata": {},
   "outputs": [],
   "source": [
    "from torch.utils.data import Dataset\n",
    "import torch\n",
    "\n",
    "class ChatDataset(Dataset):\n",
    "    def __init__(self, data, tokenizer):\n",
    "        self.data = data\n",
    "        self.tokenizer = tokenizer\n",
    "        self.pad_token_id = tokenizer.pad_token_id\n",
    "        self.eos_token_id = tokenizer.eos_token_id\n",
    "        self.query_token_id = tokenizer.convert_tokens_to_ids(\"<query>\")\n",
    "        self.answer_token_id = tokenizer.convert_tokens_to_ids(\"<answer>\")\n",
    "\n",
    "    def __len__(self):\n",
    "        return len(self.data)\n",
    "\n",
    "    def __getitem__(self, idx):\n",
    "        item = self.data[idx]\n",
    "\n",
    "        # Encode encoder input (persona/context)\n",
    "        encoder = self.tokenizer(\n",
    "            item[\"persona\"],\n",
    "            return_tensors='pt',\n",
    "            padding=False,\n",
    "            truncation=True\n",
    "        )\n",
    "\n",
    "        # Encode decoder input (dialogue)\n",
    "        decoder = self.tokenizer(\n",
    "            item[\"dialogue\"],\n",
    "            return_tensors='pt',\n",
    "            padding=False,\n",
    "            truncation=True\n",
    "        )\n",
    "\n",
    "        decoder_input_ids = decoder['input_ids'].squeeze(0)\n",
    "        attention_mask = encoder['attention_mask'].squeeze(0)\n",
    "        input_ids = encoder['input_ids'].squeeze(0)\n",
    "\n",
    "        # Generate labels by masking <query> segments\n",
    "        labels = decoder_input_ids.clone()\n",
    "        mask = torch.ones_like(labels) * -100\n",
    "        j = 0\n",
    "\n",
    "        while j < len(labels):\n",
    "            if labels[j] == self.answer_token_id:\n",
    "                a_start = j\n",
    "                next_query = (labels[j+1:] == self.query_token_id).nonzero(as_tuple=True)\n",
    "                next_eos = (labels[j+1:] == self.eos_token_id).nonzero(as_tuple=True)\n",
    "\n",
    "                if next_query[0].numel() > 0:\n",
    "                    a_end = j + 1 + next_query[0][0].item()\n",
    "                elif next_eos[0].numel() > 0:\n",
    "                    a_end = j + 1 + next_eos[0][0].item()\n",
    "                else:\n",
    "                    a_end = len(labels)\n",
    "\n",
    "                mask[a_start:a_end] = labels[a_start:a_end]\n",
    "                j = a_end\n",
    "            else:\n",
    "                j += 1\n",
    "\n",
    "        return {\n",
    "            \"input_ids\": input_ids,\n",
    "            \"attention_mask\": attention_mask,\n",
    "            \"decoder_input_ids\": decoder_input_ids,\n",
    "            \"labels\": mask\n",
    "        }\n"
   ]
  },
  {
   "cell_type": "code",
   "execution_count": 2,
   "id": "7fd80ebe",
   "metadata": {},
   "outputs": [
    {
     "name": "stderr",
     "output_type": "stream",
     "text": [
      "Asking to truncate to max_length but no maximum length is provided and the model has no predefined maximum length. Default to no truncation.\n"
     ]
    },
    {
     "name": "stdout",
     "output_type": "stream",
     "text": [
      "\n",
      "[ENCODER INPUT IDs]: tensor([   0,  100,  657, 9366,    4,   38,  437,   10, 2257, 8083,    4,   38,\n",
      "        2254,  628,   12, 8498, 5792,    4,    2])\n",
      "\n",
      "[DECODER INPUT IDs]: tensor([    0, 50266,   653,    18,   110,  2674,   689,   116,  1437, 50267,\n",
      "           38,   657,  9366,   328,  1437, 50266,   653,   109,    47,   109,\n",
      "          116,  1437, 50267,    38,   437,    10,  2257,  8083,     4,  1437,\n",
      "        50266,  1832,    47,   101,   164,    66,   116,  1437, 50267,  3216,\n",
      "            6,    38,  2254,   628,    12,  8498,  5792,     4,     2])\n",
      "\n",
      "[LABELS]: tensor([ -100,  -100,  -100,  -100,  -100,  -100,  -100,  -100,  -100, 50267,\n",
      "           38,   657,  9366,   328,  1437,  -100,  -100,  -100,  -100,  -100,\n",
      "         -100,  -100, 50267,    38,   437,    10,  2257,  8083,     4,  1437,\n",
      "         -100,  -100,  -100,  -100,  -100,  -100,  -100,  -100, 50267,  3216,\n",
      "            6,    38,  2254,   628,    12,  8498,  5792,     4,  -100])\n",
      "\n",
      "[Decoded Labels]: <answer>  I love pizza!  <answer>  I'm a software engineer.  <answer>  Yes, I enjoy late-night walks.\n"
     ]
    }
   ],
   "source": [
    "from transformers import BartTokenizer\n",
    "\n",
    "# Initialize tokenizer\n",
    "tokenizer = BartTokenizer.from_pretrained(\"facebook/bart-base\")\n",
    "tokenizer.add_special_tokens({'additional_special_tokens': ['<persona>', '<query>', '<answer>', '<eos>']})\n",
    "\n",
    "# Sample data\n",
    "data = [\n",
    "    {\n",
    "        \"persona\": \"I love pizza. I'm a software engineer. I enjoy late-night walks.\",\n",
    "        \"dialogue\": (\n",
    "            \"<query> What's your favorite food? <answer> I love pizza! \"\n",
    "            \"<query> What do you do? <answer> I'm a software engineer. \"\n",
    "            \"<query> Do you like going out? <answer> Yes, I enjoy late-night walks.\"\n",
    "        )\n",
    "    },\n",
    "    {\n",
    "        \"persona\": \"I live in Paris. I'm a teacher. I like classical music.\",\n",
    "        \"dialogue\": (\n",
    "            \"<query> Where do you live? <answer> I live in Paris. \"\n",
    "            \"<query> What's your job? <answer> I'm a teacher. \"\n",
    "            \"<query> What kind of music do you like? <answer> I like classical music.\"\n",
    "        )\n",
    "    }\n",
    "]\n",
    "\n",
    "\n",
    "# Create dataset\n",
    "dataset = ChatDataset(data, tokenizer)\n",
    "\n",
    "# Check first sample\n",
    "sample = dataset[0]\n",
    "print(\"\\n[ENCODER INPUT IDs]:\", sample[\"input_ids\"])\n",
    "print(\"\\n[DECODER INPUT IDs]:\", sample[\"decoder_input_ids\"])\n",
    "print(\"\\n[LABELS]:\", sample[\"labels\"])\n",
    "print(\"\\n[Decoded Labels]:\", tokenizer.decode(sample[\"labels\"][sample[\"labels\"] != -100]))\n"
   ]
  },
  {
   "cell_type": "code",
   "execution_count": null,
   "id": "e6daecca",
   "metadata": {},
   "outputs": [],
   "source": [
    "from torch.nn.utils.rnn import pad_sequence\n",
    "import torch\n",
    "\n",
    "class ChatCollatorWithMasking:\n",
    "    def __init__(self, tokenizer):\n",
    "        self.tokenizer = tokenizer\n",
    "        self.pad_token_id = tokenizer.pad_token_id\n",
    "\n",
    "    def __call__(self, batch):\n",
    "        input_ids = [item[\"input_ids\"] for item in batch]\n",
    "        attention_mask = [item[\"attention_mask\"] for item in batch]\n",
    "        decoder_input_ids = [item[\"decoder_input_ids\"] for item in batch]\n",
    "        labels = [item[\"labels\"] for item in batch]\n",
    "\n",
    "        input_ids = pad_sequence(input_ids, batch_first=True, padding_value=self.pad_token_id)\n",
    "        attention_mask = pad_sequence(attention_mask, batch_first=True, padding_value=0)\n",
    "        decoder_input_ids = pad_sequence(decoder_input_ids, batch_first=True, padding_value=self.pad_token_id)\n",
    "        labels = pad_sequence(labels, batch_first=True, padding_value=-100)\n",
    "\n",
    "        return {\n",
    "            \"input_ids\": input_ids,\n",
    "            \"attention_mask\": attention_mask,\n",
    "            \"decoder_input_ids\": decoder_input_ids,\n",
    "            \"labels\": labels\n",
    "        }\n"
   ]
  },
  {
   "cell_type": "code",
   "execution_count": 5,
   "id": "f0fb428b",
   "metadata": {},
   "outputs": [
    {
     "ename": "TypeError",
     "evalue": "pad_sequence() got an unexpected keyword argument 'maxlen'",
     "output_type": "error",
     "traceback": [
      "\u001b[0;31m---------------------------------------------------------------------------\u001b[0m",
      "\u001b[0;31mTypeError\u001b[0m                                 Traceback (most recent call last)",
      "Cell \u001b[0;32mIn[5], line 7\u001b[0m\n\u001b[1;32m      4\u001b[0m dataloader \u001b[38;5;241m=\u001b[39m DataLoader(dataset, batch_size\u001b[38;5;241m=\u001b[39m\u001b[38;5;241m1\u001b[39m, collate_fn\u001b[38;5;241m=\u001b[39mcollator)\n\u001b[1;32m      6\u001b[0m \u001b[38;5;66;03m# Iterate over a batch\u001b[39;00m\n\u001b[0;32m----> 7\u001b[0m \u001b[38;5;28;01mfor\u001b[39;00m batch \u001b[38;5;129;01min\u001b[39;00m dataloader:\n\u001b[1;32m      8\u001b[0m     \u001b[38;5;28mprint\u001b[39m(\u001b[38;5;124m\"\u001b[39m\u001b[38;5;124mInput IDs shape:\u001b[39m\u001b[38;5;124m\"\u001b[39m, batch[\u001b[38;5;124m\"\u001b[39m\u001b[38;5;124minput_ids\u001b[39m\u001b[38;5;124m\"\u001b[39m]\u001b[38;5;241m.\u001b[39mshape)\n\u001b[1;32m      9\u001b[0m     \u001b[38;5;28mprint\u001b[39m(\u001b[38;5;124m\"\u001b[39m\u001b[38;5;124mDecoder Input IDs shape:\u001b[39m\u001b[38;5;124m\"\u001b[39m, batch[\u001b[38;5;124m\"\u001b[39m\u001b[38;5;124mdecoder_input_ids\u001b[39m\u001b[38;5;124m\"\u001b[39m]\u001b[38;5;241m.\u001b[39mshape)\n",
      "File \u001b[0;32m~/.local/lib/python3.10/site-packages/torch/utils/data/dataloader.py:708\u001b[0m, in \u001b[0;36m_BaseDataLoaderIter.__next__\u001b[0;34m(self)\u001b[0m\n\u001b[1;32m    705\u001b[0m \u001b[38;5;28;01mif\u001b[39;00m \u001b[38;5;28mself\u001b[39m\u001b[38;5;241m.\u001b[39m_sampler_iter \u001b[38;5;129;01mis\u001b[39;00m \u001b[38;5;28;01mNone\u001b[39;00m:\n\u001b[1;32m    706\u001b[0m     \u001b[38;5;66;03m# TODO(https://github.com/pytorch/pytorch/issues/76750)\u001b[39;00m\n\u001b[1;32m    707\u001b[0m     \u001b[38;5;28mself\u001b[39m\u001b[38;5;241m.\u001b[39m_reset()  \u001b[38;5;66;03m# type: ignore[call-arg]\u001b[39;00m\n\u001b[0;32m--> 708\u001b[0m data \u001b[38;5;241m=\u001b[39m \u001b[38;5;28;43mself\u001b[39;49m\u001b[38;5;241;43m.\u001b[39;49m\u001b[43m_next_data\u001b[49m\u001b[43m(\u001b[49m\u001b[43m)\u001b[49m\n\u001b[1;32m    709\u001b[0m \u001b[38;5;28mself\u001b[39m\u001b[38;5;241m.\u001b[39m_num_yielded \u001b[38;5;241m+\u001b[39m\u001b[38;5;241m=\u001b[39m \u001b[38;5;241m1\u001b[39m\n\u001b[1;32m    710\u001b[0m \u001b[38;5;28;01mif\u001b[39;00m (\n\u001b[1;32m    711\u001b[0m     \u001b[38;5;28mself\u001b[39m\u001b[38;5;241m.\u001b[39m_dataset_kind \u001b[38;5;241m==\u001b[39m _DatasetKind\u001b[38;5;241m.\u001b[39mIterable\n\u001b[1;32m    712\u001b[0m     \u001b[38;5;129;01mand\u001b[39;00m \u001b[38;5;28mself\u001b[39m\u001b[38;5;241m.\u001b[39m_IterableDataset_len_called \u001b[38;5;129;01mis\u001b[39;00m \u001b[38;5;129;01mnot\u001b[39;00m \u001b[38;5;28;01mNone\u001b[39;00m\n\u001b[1;32m    713\u001b[0m     \u001b[38;5;129;01mand\u001b[39;00m \u001b[38;5;28mself\u001b[39m\u001b[38;5;241m.\u001b[39m_num_yielded \u001b[38;5;241m>\u001b[39m \u001b[38;5;28mself\u001b[39m\u001b[38;5;241m.\u001b[39m_IterableDataset_len_called\n\u001b[1;32m    714\u001b[0m ):\n",
      "File \u001b[0;32m~/.local/lib/python3.10/site-packages/torch/utils/data/dataloader.py:764\u001b[0m, in \u001b[0;36m_SingleProcessDataLoaderIter._next_data\u001b[0;34m(self)\u001b[0m\n\u001b[1;32m    762\u001b[0m \u001b[38;5;28;01mdef\u001b[39;00m\u001b[38;5;250m \u001b[39m\u001b[38;5;21m_next_data\u001b[39m(\u001b[38;5;28mself\u001b[39m):\n\u001b[1;32m    763\u001b[0m     index \u001b[38;5;241m=\u001b[39m \u001b[38;5;28mself\u001b[39m\u001b[38;5;241m.\u001b[39m_next_index()  \u001b[38;5;66;03m# may raise StopIteration\u001b[39;00m\n\u001b[0;32m--> 764\u001b[0m     data \u001b[38;5;241m=\u001b[39m \u001b[38;5;28;43mself\u001b[39;49m\u001b[38;5;241;43m.\u001b[39;49m\u001b[43m_dataset_fetcher\u001b[49m\u001b[38;5;241;43m.\u001b[39;49m\u001b[43mfetch\u001b[49m\u001b[43m(\u001b[49m\u001b[43mindex\u001b[49m\u001b[43m)\u001b[49m  \u001b[38;5;66;03m# may raise StopIteration\u001b[39;00m\n\u001b[1;32m    765\u001b[0m     \u001b[38;5;28;01mif\u001b[39;00m \u001b[38;5;28mself\u001b[39m\u001b[38;5;241m.\u001b[39m_pin_memory:\n\u001b[1;32m    766\u001b[0m         data \u001b[38;5;241m=\u001b[39m _utils\u001b[38;5;241m.\u001b[39mpin_memory\u001b[38;5;241m.\u001b[39mpin_memory(data, \u001b[38;5;28mself\u001b[39m\u001b[38;5;241m.\u001b[39m_pin_memory_device)\n",
      "File \u001b[0;32m~/.local/lib/python3.10/site-packages/torch/utils/data/_utils/fetch.py:55\u001b[0m, in \u001b[0;36m_MapDatasetFetcher.fetch\u001b[0;34m(self, possibly_batched_index)\u001b[0m\n\u001b[1;32m     53\u001b[0m \u001b[38;5;28;01melse\u001b[39;00m:\n\u001b[1;32m     54\u001b[0m     data \u001b[38;5;241m=\u001b[39m \u001b[38;5;28mself\u001b[39m\u001b[38;5;241m.\u001b[39mdataset[possibly_batched_index]\n\u001b[0;32m---> 55\u001b[0m \u001b[38;5;28;01mreturn\u001b[39;00m \u001b[38;5;28;43mself\u001b[39;49m\u001b[38;5;241;43m.\u001b[39;49m\u001b[43mcollate_fn\u001b[49m\u001b[43m(\u001b[49m\u001b[43mdata\u001b[49m\u001b[43m)\u001b[49m\n",
      "Cell \u001b[0;32mIn[4], line 15\u001b[0m, in \u001b[0;36mChatCollatorWithMasking.__call__\u001b[0;34m(self, batch)\u001b[0m\n\u001b[1;32m     12\u001b[0m decoder_input_ids \u001b[38;5;241m=\u001b[39m [item[\u001b[38;5;124m\"\u001b[39m\u001b[38;5;124mdecoder_input_ids\u001b[39m\u001b[38;5;124m\"\u001b[39m] \u001b[38;5;28;01mfor\u001b[39;00m item \u001b[38;5;129;01min\u001b[39;00m batch]\n\u001b[1;32m     13\u001b[0m labels \u001b[38;5;241m=\u001b[39m [item[\u001b[38;5;124m\"\u001b[39m\u001b[38;5;124mlabels\u001b[39m\u001b[38;5;124m\"\u001b[39m] \u001b[38;5;28;01mfor\u001b[39;00m item \u001b[38;5;129;01min\u001b[39;00m batch]\n\u001b[0;32m---> 15\u001b[0m input_ids \u001b[38;5;241m=\u001b[39m \u001b[43mpad_sequence\u001b[49m\u001b[43m(\u001b[49m\u001b[43minput_ids\u001b[49m\u001b[43m,\u001b[49m\u001b[43m \u001b[49m\u001b[43mbatch_first\u001b[49m\u001b[38;5;241;43m=\u001b[39;49m\u001b[38;5;28;43;01mTrue\u001b[39;49;00m\u001b[43m,\u001b[49m\u001b[43m \u001b[49m\u001b[43mpadding_value\u001b[49m\u001b[38;5;241;43m=\u001b[39;49m\u001b[38;5;28;43mself\u001b[39;49m\u001b[38;5;241;43m.\u001b[39;49m\u001b[43mpad_token_id\u001b[49m\u001b[43m,\u001b[49m\u001b[43mmaxlen\u001b[49m\u001b[38;5;241;43m=\u001b[39;49m\u001b[38;5;241;43m50\u001b[39;49m\u001b[43m)\u001b[49m\n\u001b[1;32m     16\u001b[0m attention_mask \u001b[38;5;241m=\u001b[39m pad_sequence(attention_mask, batch_first\u001b[38;5;241m=\u001b[39m\u001b[38;5;28;01mTrue\u001b[39;00m, padding_value\u001b[38;5;241m=\u001b[39m\u001b[38;5;241m0\u001b[39m,maxlen\u001b[38;5;241m=\u001b[39m\u001b[38;5;241m50\u001b[39m)\n\u001b[1;32m     17\u001b[0m decoder_input_ids \u001b[38;5;241m=\u001b[39m pad_sequence(decoder_input_ids, batch_first\u001b[38;5;241m=\u001b[39m\u001b[38;5;28;01mTrue\u001b[39;00m, padding_value\u001b[38;5;241m=\u001b[39m\u001b[38;5;28mself\u001b[39m\u001b[38;5;241m.\u001b[39mpad_token_id,maxlen\u001b[38;5;241m=\u001b[39m\u001b[38;5;241m50\u001b[39m)\n",
      "\u001b[0;31mTypeError\u001b[0m: pad_sequence() got an unexpected keyword argument 'maxlen'"
     ]
    }
   ],
   "source": [
    "from torch.utils.data import DataLoader\n",
    "\n",
    "collator = ChatCollatorWithMasking(tokenizer)\n",
    "dataloader = DataLoader(dataset, batch_size=1, collate_fn=collator)\n",
    "\n",
    "# Iterate over a batch\n",
    "for batch in dataloader:\n",
    "    print(\"Input IDs shape:\", batch[\"input_ids\"].shape)\n",
    "    print(\"Decoder Input IDs shape:\", batch[\"decoder_input_ids\"].shape)\n",
    "    print(\"Labels shape:\", batch[\"labels\"].shape)\n",
    "    break\n"
   ]
  },
  {
   "cell_type": "code",
   "execution_count": 24,
   "id": "32bf288c",
   "metadata": {},
   "outputs": [
    {
     "name": "stdout",
     "output_type": "stream",
     "text": [
      "Input IDs: tensor([[   0,  100,  657, 9366,    4,   38,  437,   10, 2257, 8083,    4,   38,\n",
      "         2254,  628,   12, 8498, 5792,    4,    2]])\n",
      "Decoder Input IDs: tensor([[    0, 50266,   653,    18,   110,  2674,   689,   116,  1437, 50267,\n",
      "            38,   657,  9366,   328,  1437, 50266,   653,   109,    47,   109,\n",
      "           116,  1437, 50267,    38,   437,    10,  2257,  8083,     4,  1437,\n",
      "         50266,  1832,    47,   101,   164,    66,   116,  1437, 50267,  3216,\n",
      "             6,    38,  2254,   628,    12,  8498,  5792,     4,     2]])\n",
      "Labels: tensor([[ -100,  -100,  -100,  -100,  -100,  -100,  -100,  -100,  -100, 50267,\n",
      "            38,   657,  9366,   328,  1437,  -100,  -100,  -100,  -100,  -100,\n",
      "          -100,  -100, 50267,    38,   437,    10,  2257,  8083,     4,  1437,\n",
      "          -100,  -100,  -100,  -100,  -100,  -100,  -100,  -100, 50267,  3216,\n",
      "             6,    38,  2254,   628,    12,  8498,  5792,     4,  -100]])\n"
     ]
    }
   ],
   "source": [
    "for batch in dataloader:\n",
    "    print(\"Input IDs:\", batch[\"input_ids\"])\n",
    "    print(\"Decoder Input IDs:\", batch[\"decoder_input_ids\"])\n",
    "    print(\"Labels:\", batch[\"labels\"])\n",
    "    break"
   ]
  },
  {
   "cell_type": "code",
   "execution_count": null,
   "id": "22e214e4",
   "metadata": {},
   "outputs": [],
   "source": []
  }
 ],
 "metadata": {
  "kernelspec": {
   "display_name": "lmedr_3",
   "language": "python",
   "name": "python3"
  },
  "language_info": {
   "codemirror_mode": {
    "name": "ipython",
    "version": 3
   },
   "file_extension": ".py",
   "mimetype": "text/x-python",
   "name": "python",
   "nbconvert_exporter": "python",
   "pygments_lexer": "ipython3",
   "version": "3.10.16"
  }
 },
 "nbformat": 4,
 "nbformat_minor": 5
}
