{
 "cells": [
  {
   "cell_type": "code",
   "execution_count": 1,
   "id": "1e1d97e5",
   "metadata": {},
   "outputs": [],
   "source": [
    "from torch.utils.data import Dataset\n",
    "import torch\n",
    "\n",
    "class ChatDataset(Dataset):\n",
    "    def __init__(self, data, tokenizer):\n",
    "        self.data = data\n",
    "        self.tokenizer = tokenizer\n",
    "        self.pad_token_id = tokenizer.pad_token_id\n",
    "        self.eos_token_id = tokenizer.eos_token_id\n",
    "        self.query_token_id = tokenizer.convert_tokens_to_ids(\"<query>\")\n",
    "        self.answer_token_id = tokenizer.convert_tokens_to_ids(\"<answer>\")\n",
    "\n",
    "    def __len__(self):\n",
    "        return len(self.data)\n",
    "\n",
    "    def __getitem__(self, idx):\n",
    "        item = self.data[idx]\n",
    "\n",
    "        # Encode encoder input (persona/context)\n",
    "        encoder = self.tokenizer(\n",
    "            item[\"persona\"],\n",
    "            return_tensors='pt',\n",
    "            padding=False,\n",
    "            truncation=True\n",
    "        )\n",
    "\n",
    "        # Encode decoder input (dialogue)\n",
    "        decoder = self.tokenizer(\n",
    "            item[\"dialogue\"],\n",
    "            return_tensors='pt',\n",
    "            padding=False,\n",
    "            truncation=True\n",
    "        )\n",
    "\n",
    "        decoder_input_ids = decoder['input_ids'].squeeze(0)\n",
    "        attention_mask = encoder['attention_mask'].squeeze(0)\n",
    "        input_ids = encoder['input_ids'].squeeze(0)\n",
    "\n",
    "        # Generate labels by masking <query> segments\n",
    "        labels = decoder_input_ids.clone()\n",
    "        mask = torch.ones_like(labels) * -100\n",
    "        j = 0\n",
    "\n",
    "        while j < len(labels):\n",
    "            if labels[j] == self.answer_token_id:\n",
    "                a_start = j\n",
    "                next_query = (labels[j+1:] == self.query_token_id).nonzero(as_tuple=True)\n",
    "                next_eos = (labels[j+1:] == self.eos_token_id).nonzero(as_tuple=True)\n",
    "\n",
    "                if next_query[0].numel() > 0:\n",
    "                    a_end = j + 1 + next_query[0][0].item()\n",
    "                elif next_eos[0].numel() > 0:\n",
    "                    a_end = j + 1 + next_eos[0][0].item()\n",
    "                else:\n",
    "                    a_end = len(labels)\n",
    "\n",
    "                mask[a_start:a_end] = labels[a_start:a_end]\n",
    "                j = a_end\n",
    "            else:\n",
    "                j += 1\n",
    "\n",
    "        return {\n",
    "            \"input_ids\": input_ids,\n",
    "            \"attention_mask\": attention_mask,\n",
    "            \"decoder_input_ids\": decoder_input_ids,\n",
    "            \"labels\": mask\n",
    "        }\n"
   ]
  },
  {
   "cell_type": "code",
   "execution_count": 2,
   "id": "7fd80ebe",
   "metadata": {},
   "outputs": [
    {
     "name": "stderr",
     "output_type": "stream",
     "text": [
      "Asking to truncate to max_length but no maximum length is provided and the model has no predefined maximum length. Default to no truncation.\n"
     ]
    },
    {
     "name": "stdout",
     "output_type": "stream",
     "text": [
      "\n",
      "[ENCODER INPUT IDs]: tensor([   0,  100,  657, 9366,    4,   38,  437,   10, 2257, 8083,    4,   38,\n",
      "        2254,  628,   12, 8498, 5792,    4,    2])\n",
      "\n",
      "[DECODER INPUT IDs]: tensor([    0, 50266,   653,    18,   110,  2674,   689,   116,  1437, 50267,\n",
      "           38,   657,  9366,   328,  1437, 50266,   653,   109,    47,   109,\n",
      "          116,  1437, 50267,    38,   437,    10,  2257,  8083,     4,  1437,\n",
      "        50266,  1832,    47,   101,   164,    66,   116,  1437, 50267,  3216,\n",
      "            6,    38,  2254,   628,    12,  8498,  5792,     4,     2])\n",
      "\n",
      "[LABELS]: tensor([ -100,  -100,  -100,  -100,  -100,  -100,  -100,  -100,  -100, 50267,\n",
      "           38,   657,  9366,   328,  1437,  -100,  -100,  -100,  -100,  -100,\n",
      "         -100,  -100, 50267,    38,   437,    10,  2257,  8083,     4,  1437,\n",
      "         -100,  -100,  -100,  -100,  -100,  -100,  -100,  -100, 50267,  3216,\n",
      "            6,    38,  2254,   628,    12,  8498,  5792,     4,  -100])\n",
      "\n",
      "[Decoded Labels]: <answer>  I love pizza!  <answer>  I'm a software engineer.  <answer>  Yes, I enjoy late-night walks.\n"
     ]
    }
   ],
   "source": [
    "from transformers import BartTokenizer\n",
    "\n",
    "# Initialize tokenizer\n",
    "tokenizer = BartTokenizer.from_pretrained(\"facebook/bart-base\")\n",
    "tokenizer.add_special_tokens({'additional_special_tokens': ['<persona>', '<query>', '<answer>', '<eos>']})\n",
    "\n",
    "# Sample data\n",
    "data = [\n",
    "    {\n",
    "        \"persona\": \"I love pizza. I'm a software engineer. I enjoy late-night walks.\",\n",
    "        \"dialogue\": (\n",
    "            \"<query> What's your favorite food? <answer> I love pizza! \"\n",
    "            \"<query> What do you do? <answer> I'm a software engineer. \"\n",
    "            \"<query> Do you like going out? <answer> Yes, I enjoy late-night walks.\"\n",
    "        )\n",
    "    },\n",
    "    {\n",
    "        \"persona\": \"I live in Paris. I'm a teacher. I like classical music.\",\n",
    "        \"dialogue\": (\n",
    "            \"<query> Where do you live? <answer> I live in Paris. \"\n",
    "            \"<query> What's your job? <answer> I'm a teacher. \"\n",
    "            \"<query> What kind of music do you like? <answer> I like classical music.\"\n",
    "        )\n",
    "    }\n",
    "]\n",
    "\n",
    "\n",
    "# Create dataset\n",
    "dataset = ChatDataset(data, tokenizer)\n",
    "\n",
    "# Check first sample\n",
    "sample = dataset[0]\n",
    "print(\"\\n[ENCODER INPUT IDs]:\", sample[\"input_ids\"])\n",
    "print(\"\\n[DECODER INPUT IDs]:\", sample[\"decoder_input_ids\"])\n",
    "print(\"\\n[LABELS]:\", sample[\"labels\"])\n",
    "print(\"\\n[Decoded Labels]:\", tokenizer.decode(sample[\"labels\"][sample[\"labels\"] != -100]))\n"
   ]
  },
  {
   "cell_type": "code",
   "execution_count": 6,
   "id": "e6daecca",
   "metadata": {},
   "outputs": [],
   "source": [
    "from torch.nn.utils.rnn import pad_sequence\n",
    "import torch\n",
    "\n",
    "class ChatCollatorWithMasking:\n",
    "    def __init__(self, tokenizer):\n",
    "        self.tokenizer = tokenizer\n",
    "        self.pad_token_id = tokenizer.pad_token_id\n",
    "\n",
    "    def __call__(self, batch):\n",
    "        input_ids = [item[\"input_ids\"] for item in batch]\n",
    "        attention_mask = [item[\"attention_mask\"] for item in batch]\n",
    "        decoder_input_ids = [item[\"decoder_input_ids\"] for item in batch]\n",
    "        labels = [item[\"labels\"] for item in batch]\n",
    "\n",
    "        input_ids = pad_sequence(input_ids, batch_first=True, padding_value=self.pad_token_id)\n",
    "        attention_mask = pad_sequence(attention_mask, batch_first=True, padding_value=0)\n",
    "        decoder_input_ids = pad_sequence(decoder_input_ids, batch_first=True, padding_value=self.pad_token_id)\n",
    "        labels = pad_sequence(labels, batch_first=True, padding_value=-100)\n",
    "\n",
    "        return {\n",
    "            \"input_ids\": input_ids,\n",
    "            \"attention_mask\": attention_mask,\n",
    "            \"decoder_input_ids\": decoder_input_ids,\n",
    "            \"labels\": labels\n",
    "        }\n"
   ]
  },
  {
   "cell_type": "code",
   "execution_count": 7,
   "id": "f0fb428b",
   "metadata": {},
   "outputs": [
    {
     "name": "stdout",
     "output_type": "stream",
     "text": [
      "Input IDs shape: torch.Size([1, 19])\n",
      "Decoder Input IDs shape: torch.Size([1, 49])\n",
      "Labels shape: torch.Size([1, 49])\n"
     ]
    }
   ],
   "source": [
    "from torch.utils.data import DataLoader\n",
    "\n",
    "collator = ChatCollatorWithMasking(tokenizer)\n",
    "dataloader = DataLoader(dataset, batch_size=1, collate_fn=collator)\n",
    "\n",
    "# Iterate over a batch\n",
    "for batch in dataloader:\n",
    "    print(\"Input IDs shape:\", batch[\"input_ids\"].shape)\n",
    "    print(\"Decoder Input IDs shape:\", batch[\"decoder_input_ids\"].shape)\n",
    "    print(\"Labels shape:\", batch[\"labels\"].shape)\n",
    "    break\n"
   ]
  },
  {
   "cell_type": "code",
   "execution_count": 24,
   "id": "32bf288c",
   "metadata": {},
   "outputs": [
    {
     "name": "stdout",
     "output_type": "stream",
     "text": [
      "Input IDs: tensor([[   0,  100,  657, 9366,    4,   38,  437,   10, 2257, 8083,    4,   38,\n",
      "         2254,  628,   12, 8498, 5792,    4,    2]])\n",
      "Decoder Input IDs: tensor([[    0, 50266,   653,    18,   110,  2674,   689,   116,  1437, 50267,\n",
      "            38,   657,  9366,   328,  1437, 50266,   653,   109,    47,   109,\n",
      "           116,  1437, 50267,    38,   437,    10,  2257,  8083,     4,  1437,\n",
      "         50266,  1832,    47,   101,   164,    66,   116,  1437, 50267,  3216,\n",
      "             6,    38,  2254,   628,    12,  8498,  5792,     4,     2]])\n",
      "Labels: tensor([[ -100,  -100,  -100,  -100,  -100,  -100,  -100,  -100,  -100, 50267,\n",
      "            38,   657,  9366,   328,  1437,  -100,  -100,  -100,  -100,  -100,\n",
      "          -100,  -100, 50267,    38,   437,    10,  2257,  8083,     4,  1437,\n",
      "          -100,  -100,  -100,  -100,  -100,  -100,  -100,  -100, 50267,  3216,\n",
      "             6,    38,  2254,   628,    12,  8498,  5792,     4,  -100]])\n"
     ]
    }
   ],
   "source": [
    "for batch in dataloader:\n",
    "    print(\"Input IDs:\", batch[\"input_ids\"])\n",
    "    print(\"Decoder Input IDs:\", batch[\"decoder_input_ids\"])\n",
    "    print(\"Labels:\", batch[\"labels\"])\n",
    "    break"
   ]
  },
  {
   "cell_type": "code",
   "execution_count": null,
   "id": "22e214e4",
   "metadata": {},
   "outputs": [],
   "source": []
  }
 ],
 "metadata": {
  "kernelspec": {
   "display_name": "lmedr_3",
   "language": "python",
   "name": "python3"
  },
  "language_info": {
   "codemirror_mode": {
    "name": "ipython",
    "version": 3
   },
   "file_extension": ".py",
   "mimetype": "text/x-python",
   "name": "python",
   "nbconvert_exporter": "python",
   "pygments_lexer": "ipython3",
   "version": "3.10.16"
  }
 },
 "nbformat": 4,
 "nbformat_minor": 5
}
