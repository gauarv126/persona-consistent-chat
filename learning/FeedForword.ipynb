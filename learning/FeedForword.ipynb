{
 "cells": [
  {
   "cell_type": "code",
   "execution_count": 1,
   "id": "3724ec00",
   "metadata": {},
   "outputs": [
    {
     "name": "stdout",
     "output_type": "stream",
     "text": [
      "Output after Linear Layer:\n",
      "tensor([[0.1100, 0.2200, 0.3300, 0.4400],\n",
      "        [0.5100, 0.6200, 0.7300, 0.8400],\n",
      "        [0.9100, 1.0200, 1.1300, 1.2400]], grad_fn=<AddmmBackward0>)\n"
     ]
    }
   ],
   "source": [
    "import torch\n",
    "import torch.nn as nn\n",
    "\n",
    "# Attention output: T = 3, D = 4\n",
    "Z = torch.tensor([\n",
    "    [0.1, 0.2, 0.3, 0.4],\n",
    "    [0.5, 0.6, 0.7, 0.8],\n",
    "    [0.9, 1.0, 1.1, 1.2]\n",
    "])  # Shape: (3, 4)\n",
    "\n",
    "# Define Linear Layer: in_features=4, out_features=4\n",
    "linear = nn.Linear(in_features=4, out_features=4)\n",
    "\n",
    "# For reproducibility\n",
    "torch.manual_seed(0)\n",
    "\n",
    "# Manually set weights = identity, bias = [0.01, 0.02, 0.03, 0.04]\n",
    "with torch.no_grad():\n",
    "    linear.weight.copy_(torch.eye(4))  # Identity matrix\n",
    "    linear.bias.copy_(torch.tensor([0.01, 0.02, 0.03, 0.04]))\n",
    "\n",
    "# Apply linear layer\n",
    "Y = linear(Z)\n",
    "\n",
    "print(\"Output after Linear Layer:\")\n",
    "print(Y)\n"
   ]
  },
  {
   "cell_type": "code",
   "execution_count": null,
   "id": "eb8d85cf",
   "metadata": {},
   "outputs": [],
   "source": []
  },
  {
   "cell_type": "markdown",
   "id": "e0819826",
   "metadata": {},
   "source": [
    "## How Loss is calculated"
   ]
  },
  {
   "cell_type": "code",
   "execution_count": 8,
   "id": "75923532",
   "metadata": {},
   "outputs": [
    {
     "name": "stdout",
     "output_type": "stream",
     "text": [
      "Loss: 11.286559104919434\n"
     ]
    }
   ],
   "source": [
    "import torch\n",
    "import torch.nn as nn\n",
    "\n",
    "# Simulated model output for 3 tokens\n",
    "T = 3\n",
    "vocab_size = 50256\n",
    "logits = torch.randn(T, vocab_size, requires_grad=True)  # model output\n",
    "\n",
    "# Ground truth target token IDs\n",
    "targets = torch.tensor([1542, 212, 502])  # true next tokens\n",
    "\n",
    "# Cross-Entropy Loss\n",
    "criterion = nn.CrossEntropyLoss()\n",
    "loss = criterion(logits, targets)\n",
    "\n",
    "print(\"Loss:\", loss.item())\n"
   ]
  },
  {
   "cell_type": "markdown",
   "id": "45197348",
   "metadata": {},
   "source": [
    "### Eill Titled Next"
   ]
  },
  {
   "cell_type": "code",
   "execution_count": 1,
   "id": "ef52e8ab",
   "metadata": {},
   "outputs": [
    {
     "name": "stdout",
     "output_type": "stream",
     "text": [
      "Logits shape: torch.Size([3, 50265])\n"
     ]
    }
   ],
   "source": [
    "import torch\n",
    "import torch.nn as nn\n",
    "\n",
    "# Decoder output: T tokens, each of size 768\n",
    "T = 3\n",
    "decoder_hidden = torch.randn(T, 768)\n",
    "\n",
    "# lm_head projection layer\n",
    "lm_head = nn.Linear(768, 50265, bias=False)\n",
    "\n",
    "# Get logits\n",
    "logits = lm_head(decoder_hidden)  # Shape: (T, 50265)\n",
    "\n",
    "print(\"Logits shape:\", logits.shape)\n"
   ]
  },
  {
   "cell_type": "code",
   "execution_count": null,
   "id": "5ba21b79",
   "metadata": {},
   "outputs": [],
   "source": []
  }
 ],
 "metadata": {
  "kernelspec": {
   "display_name": "lmedr_3",
   "language": "python",
   "name": "python3"
  },
  "language_info": {
   "codemirror_mode": {
    "name": "ipython",
    "version": 3
   },
   "file_extension": ".py",
   "mimetype": "text/x-python",
   "name": "python",
   "nbconvert_exporter": "python",
   "pygments_lexer": "ipython3",
   "version": "3.10.16"
  }
 },
 "nbformat": 4,
 "nbformat_minor": 5
}
