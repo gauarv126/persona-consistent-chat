{
 "cells": [
  {
   "cell_type": "code",
   "execution_count": 1,
   "id": "f591610c",
   "metadata": {},
   "outputs": [
    {
     "name": "stderr",
     "output_type": "stream",
     "text": [
      "The new embeddings will be initialized from a multivariate normal distribution that has old embeddings' mean and covariance. As described in this article: https://nlp.stanford.edu/~johnhew/vocab-expansion.html. To disable this, use `mean_resizing=False`\n",
      "Asking to truncate to max_length but no maximum length is provided and the model has no predefined maximum length. Default to no truncation.\n"
     ]
    },
    {
     "name": "stdout",
     "output_type": "stream",
     "text": [
      "\n",
      "[ENCODER INPUT IDS]\n",
      "tensor([[    0, 50265,    38,   101,  9366,     4,    38,   437,    10,  6596,\n",
      "             4,     2]])\n",
      "\n",
      "[DECODER INPUT IDS]\n",
      "tensor([[    0, 50266,   653,    18,   110,  2674,   689,   116,  1437, 50267,\n",
      "            38,   657,  9366,   328,  1437, 50268,     2]])\n",
      "\n",
      "[LABELS]\n",
      "tensor([[ -100,  -100,  -100,  -100,  -100,  -100,  -100,  -100,  -100,  -100,\n",
      "            38,   657,  9366,   328,  1437, 50268,     2]])\n"
     ]
    }
   ],
   "source": [
    "from transformers import BartTokenizer, BartForConditionalGeneration\n",
    "import torch\n",
    "\n",
    "# Load tokenizer and model\n",
    "tokenizer = BartTokenizer.from_pretrained(\"facebook/bart-base\")\n",
    "model = BartForConditionalGeneration.from_pretrained(\"facebook/bart-base\")\n",
    "\n",
    "# Add special tokens\n",
    "special_tokens_dict = {'additional_special_tokens': ['<persona>', '<query>', '<answer>', '<eos>']}\n",
    "tokenizer.add_special_tokens(special_tokens_dict)\n",
    "model.resize_token_embeddings(len(tokenizer))  # Resize for new tokens\n",
    "\n",
    "# Input text\n",
    "persona = \"<persona> I like pizza. I'm a developer.\"\n",
    "query = \"<query> What's your favorite food?\"\n",
    "answer = \"<answer> I love pizza! <eos>\"\n",
    "\n",
    "# 1. ENCODER INPUT\n",
    "encoder_input = tokenizer(persona, return_tensors='pt', padding=True, truncation=True)\n",
    "\n",
    "# 2. DECODER INPUT\n",
    "decoder_input_text = f\"{query} {answer}\"\n",
    "decoder_inputs = tokenizer(decoder_input_text, return_tensors='pt', padding=True, truncation=True)\n",
    "\n",
    "# 3. LABELS — same as decoder_input_ids but with masked query part\n",
    "labels = decoder_inputs['input_ids'].clone()\n",
    "answer_token_id = tokenizer.convert_tokens_to_ids('<answer>')\n",
    "\n",
    "# Mask everything before and including <answer> token\n",
    "for i in range(labels.size(0)):\n",
    "    idx = (labels[i] == answer_token_id).nonzero(as_tuple=True)[0]\n",
    "    if idx.numel() > 0:\n",
    "        labels[i, :idx + 1] = -100\n",
    "    else:\n",
    "        labels[i, :] = -100  # no <answer> found\n",
    "\n",
    "# Check the output\n",
    "print(\"\\n[ENCODER INPUT IDS]\")\n",
    "print(encoder_input['input_ids'])\n",
    "\n",
    "print(\"\\n[DECODER INPUT IDS]\")\n",
    "print(decoder_inputs['input_ids'])\n",
    "\n",
    "print(\"\\n[LABELS]\")\n",
    "print(labels)\n"
   ]
  },
  {
   "cell_type": "markdown",
   "id": "ee7abcbd",
   "metadata": {},
   "source": [
    "### Multi turn Dilouge"
   ]
  },
  {
   "cell_type": "code",
   "execution_count": 1,
   "id": "2896a8ac",
   "metadata": {},
   "outputs": [
    {
     "name": "stderr",
     "output_type": "stream",
     "text": [
      "The new embeddings will be initialized from a multivariate normal distribution that has old embeddings' mean and covariance. As described in this article: https://nlp.stanford.edu/~johnhew/vocab-expansion.html. To disable this, use `mean_resizing=False`\n",
      "Asking to truncate to max_length but no maximum length is provided and the model has no predefined maximum length. Default to no truncation.\n"
     ]
    },
    {
     "name": "stdout",
     "output_type": "stream",
     "text": [
      "\n",
      "ENCODER INPUT IDs:\n",
      " tensor([[    0, 50265,    38,   101,  9366,     4,    38,   437,    10,  6596,\n",
      "             4,     2]])\n",
      "\n",
      "DECODER INPUT IDs:\n",
      " tensor([[    0, 50266,   653,    18,   110,  2674,   689,   116,  1437, 50267,\n",
      "            38,   657,  9366,   328,  1437, 50266,   653,   109,    47,   109,\n",
      "           116,  1437, 50267,    38,   437,    10,  6596,     4,  1437, 50266,\n",
      "          1336,    21,   110,   183,   116,  1437, 50267,    85,    21,   372,\n",
      "           328,  1437, 50268,     2]])\n",
      "<s> <query>  What's your favorite food?  <answer>  I love pizza!  <query>  What do you do?  <answer>  I'm a developer.  <query>  How was your day?  <answer>  It was great!  <eos> </s>\n",
      "\n",
      "LABELS (Masked Queries):\n",
      " tensor([[ -100,  -100,  -100,  -100,  -100,  -100,  -100,  -100,  -100, 50267,\n",
      "            38,   657,  9366,   328,  1437,  -100,  -100,  -100,  -100,  -100,\n",
      "          -100,  -100, 50267,    38,   437,    10,  6596,     4,  1437,  -100,\n",
      "          -100,  -100,  -100,  -100,  -100,  -100, 50267,    85,    21,   372,\n",
      "           328,  1437, 50268,  -100]])\n"
     ]
    }
   ],
   "source": [
    "from transformers import BartTokenizer, BartForConditionalGeneration\n",
    "import torch\n",
    "\n",
    "# Load tokenizer and model\n",
    "tokenizer = BartTokenizer.from_pretrained(\"facebook/bart-base\")\n",
    "model = BartForConditionalGeneration.from_pretrained(\"facebook/bart-base\")\n",
    "\n",
    "# Add special tokens\n",
    "special_tokens_dict = {'additional_special_tokens': ['<persona>', '<query>', '<answer>', '<eos>']}\n",
    "tokenizer.add_special_tokens(special_tokens_dict)\n",
    "model.resize_token_embeddings(len(tokenizer))\n",
    "\n",
    "# === Multi-turn dialogue ===\n",
    "persona = \"<persona> I like pizza. I'm a developer.\"\n",
    "\n",
    "conversation = (\n",
    "    \"<query> What's your favorite food? <answer> I love pizza! \"\n",
    "    \"<query> What do you do? <answer> I'm a developer. \"\n",
    "    \"<query> How was your day? <answer> It was great! <eos>\"\n",
    ")\n",
    "\n",
    "# Encoder input\n",
    "encoder_inputs = tokenizer(persona, return_tensors='pt', padding=True, truncation=True)\n",
    "\n",
    "# Decoder input (teacher forcing)\n",
    "decoder_inputs = tokenizer(conversation, return_tensors='pt', padding=True, truncation=True)\n",
    "\n",
    "# === Construct labels by masking query tokens ===\n",
    "labels = decoder_inputs['input_ids'].clone()\n",
    "\n",
    "# Get token IDs for special tokens\n",
    "query_token_id = tokenizer.convert_tokens_to_ids(\"<query>\")\n",
    "answer_token_id = tokenizer.convert_tokens_to_ids(\"<answer>\")\n",
    "\n",
    "# Mask all <query>...<answer> spans in the labels\n",
    "for i in range(labels.size(0)):\n",
    "    tokens = labels[i]\n",
    "    mask = torch.ones_like(tokens) * -100  # default: ignore everything\n",
    "    j = 0\n",
    "\n",
    "    while j < len(tokens):\n",
    "        if tokens[j] == answer_token_id:\n",
    "            # Keep answer and all tokens until next <query> or <eos>\n",
    "            a_start = j\n",
    "            next_query = (tokens[j+1:] == query_token_id).nonzero(as_tuple=True)\n",
    "            next_eos = (tokens[j+1:] == tokenizer.eos_token_id).nonzero(as_tuple=True)\n",
    "\n",
    "            if next_query[0].numel() > 0:\n",
    "                a_end = next_query[0][0].item() + j + 1\n",
    "            elif next_eos[0].numel() > 0:\n",
    "                a_end = next_eos[0][0].item() + j + 1\n",
    "            else:\n",
    "                a_end = len(tokens)\n",
    "\n",
    "            # Copy answer span into label\n",
    "            mask[a_start:a_end] = tokens[a_start:a_end]\n",
    "            j = a_end\n",
    "        else:\n",
    "            j += 1\n",
    "\n",
    "    labels[i] = mask\n",
    "\n",
    "\n",
    "# Print for debug\n",
    "print(\"\\nENCODER INPUT IDs:\\n\", encoder_inputs['input_ids'])\n",
    "print(\"\\nDECODER INPUT IDs:\\n\", decoder_inputs['input_ids'])\n",
    "print(tokenizer.decode(decoder_inputs['input_ids'].squeeze()))\n",
    "print(\"\\nLABELS (Masked Queries):\\n\", labels)\n"
   ]
  },
  {
   "cell_type": "markdown",
   "id": "c39705a3",
   "metadata": {},
   "source": []
  }
 ],
 "metadata": {
  "kernelspec": {
   "display_name": "lmedr_3",
   "language": "python",
   "name": "python3"
  },
  "language_info": {
   "codemirror_mode": {
    "name": "ipython",
    "version": 3
   },
   "file_extension": ".py",
   "mimetype": "text/x-python",
   "name": "python",
   "nbconvert_exporter": "python",
   "pygments_lexer": "ipython3",
   "version": "3.10.16"
  }
 },
 "nbformat": 4,
 "nbformat_minor": 5
}
