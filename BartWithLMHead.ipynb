{
 "cells": [
  {
   "cell_type": "code",
   "execution_count": 1,
   "metadata": {},
   "outputs": [
    {
     "name": "stderr",
     "output_type": "stream",
     "text": [
      "Some weights of BartForQuestionAnswering were not initialized from the model checkpoint at facebook/bart-base and are newly initialized: ['qa_outputs.bias', 'qa_outputs.weight']\n",
      "You should probably TRAIN this model on a down-stream task to be able to use it for predictions and inference.\n"
     ]
    },
    {
     "name": "stdout",
     "output_type": "stream",
     "text": [
      "torch.Size([1, 3, 2])\n"
     ]
    }
   ],
   "source": [
    "import torch\n",
    "import torch.nn as nn\n",
    "from transformers import BartTokenizer, BartForQuestionAnswering\n",
    "\n",
    "class CustomBART(nn.Module):\n",
    "    def __init__(self):\n",
    "        super(CustomBART, self).__init__()\n",
    "\n",
    "        # Load tokenizer and pre-trained BART for QA\n",
    "        self.tokenizer = BartTokenizer.from_pretrained(\"facebook/bart-base\")\n",
    "        self.model = BartForQuestionAnswering.from_pretrained(\"facebook/bart-base\")\n",
    "\n",
    "        # Extract encoder & decoder\n",
    "        self.encoder = self.model.model.encoder\n",
    "        self.decoder = self.model.model.decoder\n",
    "\n",
    "        # LM Head (for answer prediction)\n",
    "        self.qa_outputs = self.model.qa_outputs  # Linear layer for start & end logits\n",
    "\n",
    "    def forward(self, input_ids, attention_mask, decoder_input_ids, decoder_attention_mask):\n",
    "        \"\"\"Forward pass for QA.\"\"\"\n",
    "        # Encoder forward pass\n",
    "        encoder_outputs = self.encoder(input_ids=input_ids, attention_mask=attention_mask)\n",
    "        encoder_hidden_states = encoder_outputs.last_hidden_state  # (batch_size, seq_len, hidden_size)\n",
    "\n",
    "        # Decoder forward pass with cross-attention\n",
    "        decoder_outputs = self.decoder(\n",
    "            input_ids=decoder_input_ids,\n",
    "            attention_mask=decoder_attention_mask,\n",
    "            encoder_hidden_states=encoder_hidden_states,\n",
    "            encoder_attention_mask=attention_mask\n",
    "        )\n",
    "\n",
    "        # Compute start & end logits for answer span prediction\n",
    "        logits = self.qa_outputs(decoder_outputs.last_hidden_state)\n",
    "\n",
    "        return logits  # (batch_size, seq_len, 2)\n",
    "\n",
    "# Example Usage\n",
    "model = CustomBART()\n",
    "\n",
    "inputs = model.tokenizer(\"Hello How are You?\", return_tensors=\"pt\")\n",
    "\n",
    "input_ids = inputs['input_ids']\n",
    "attention_mask = inputs['attention_mask']\n",
    "\n",
    "# Dummy inputs (batch size=2, sequence length=5)\n",
    "input_ids = inputs['input_ids']\n",
    "attention_mask = inputs['attention_mask']\n",
    "\n",
    "decoder_input_ids = model.tokenizer(\"<s>\", return_tensors=\"pt\").input_ids\n",
    "decoder_attention_mask = torch.ones_like(decoder_input_ids)\n",
    "\n",
    "# Forward pass\n",
    "output = model(input_ids, attention_mask, decoder_input_ids, decoder_attention_mask)\n",
    "print(output.shape)  # (batch_size, seq_len, 2)  -> Start & end logits\n"
   ]
  },
  {
   "cell_type": "code",
   "execution_count": null,
   "metadata": {},
   "outputs": [],
   "source": []
  }
 ],
 "metadata": {
  "kernelspec": {
   "display_name": "lmedr_3",
   "language": "python",
   "name": "python3"
  },
  "language_info": {
   "codemirror_mode": {
    "name": "ipython",
    "version": 3
   },
   "file_extension": ".py",
   "mimetype": "text/x-python",
   "name": "python",
   "nbconvert_exporter": "python",
   "pygments_lexer": "ipython3",
   "version": "3.10.16"
  }
 },
 "nbformat": 4,
 "nbformat_minor": 2
}
