{
 "cells": [
  {
   "cell_type": "code",
   "execution_count": 1,
   "metadata": {},
   "outputs": [],
   "source": [
    "# %pip install transformers datasets torch"
   ]
  },
  {
   "cell_type": "code",
   "execution_count": null,
   "metadata": {},
   "outputs": [],
   "source": [
    "# from transformers import BartForConditionalGeneration, BartTokenizer\n",
    "\n",
    "# model_name = \"facebook/bart-base\"\n",
    "# tokenizer = BartTokenizer.from_pretrained(model_name)\n",
    "# model = BartForConditionalGeneration.from_pretrained(model_name)\n"
   ]
  },
  {
   "cell_type": "code",
   "execution_count": 2,
   "metadata": {},
   "outputs": [],
   "source": [
    "import torch\n",
    "from torch.utils.data import Dataset\n",
    "class DialoguesDataset(Dataset):\n",
    "    def __init__(self, data, tokenizer, max_length=512):\n",
    "        self.input_ids = []\n",
    "        self.labels = []\n",
    "        self.tokenizer = tokenizer\n",
    "\n",
    "        self._prepare_data(data, max_length)\n",
    "\n",
    "    def _prepare_data(self, data, max_length):\n",
    "        for example in data:\n",
    "            question = example[\"question\"]\n",
    "            answer = example[\"answer\"]\n",
    "\n",
    "            input_encodings = self.tokenizer(question, truncation=True, padding=\"max_length\", max_length=max_length)\n",
    "            label_encodings = self.tokenizer(answer, truncation=True, padding=\"max_length\", max_length=max_length)\n",
    "\n",
    "            self.input_ids.append(torch.tensor(input_encodings[\"input_ids\"]))\n",
    "            self.labels.append(torch.tensor(label_encodings[\"input_ids\"]))\n",
    "\n",
    "    def __len__(self):\n",
    "        return len(self.input_ids)\n",
    "\n",
    "    def __getitem__(self, idx):\n",
    "        return {\n",
    "            \"input_ids\": self.input_ids[idx],\n",
    "            \"labels\": self.labels[idx],\n",
    "        }\n"
   ]
  },
  {
   "cell_type": "code",
   "execution_count": 3,
   "metadata": {},
   "outputs": [],
   "source": [
    "\n",
    "from torch.utils.data import DataLoader\n",
    "from torch.optim import AdamW\n",
    "from transformers import BartForConditionalGeneration, BartTokenizer\n",
    "\n",
    "model_name = \"facebook/bart-base\"\n",
    "# tokenizer = BartTokenizer.from_pretrained(model_name)\n",
    "# model = BartForConditionalGeneration.from_pretrained(model_name)\n",
    "\n",
    "# Example dataset\n",
    "data = [\n",
    "    {\"question\": \"What is BART?\", \"answer\": \"BART is a transformer model by Facebook AI.\"},\n",
    "    {\"question\": \"How does BART work?\", \"answer\": \"BART uses an encoder-decoder structure for NLP tasks.\"}\n",
    "]\n",
    "\n",
    "tokenizer = BartTokenizer.from_pretrained(model_name)\n",
    "train_dataset = DialoguesDataset(data, tokenizer)\n",
    "train_dataloader = DataLoader(train_dataset, batch_size=1, shuffle=True)\n",
    "\n",
    "# Load model\n",
    "model = BartForConditionalGeneration.from_pretrained(model_name)\n",
    "# device = torch.device(\"cuda\" if torch.cuda.is_available() else \"cpu\")\n",
    "# model.to(device)\n",
    "\n",
    "# Optimizer\n",
    "optimizer = AdamW(model.parameters(), lr=5e-5)\n"
   ]
  },
  {
   "cell_type": "code",
   "execution_count": null,
   "metadata": {},
   "outputs": [
    {
     "name": "stderr",
     "output_type": "stream",
     "text": [
      "Test Data:   0%|          | 0/1 [00:00<?, ?it/s]"
     ]
    },
    {
     "name": "stdout",
     "output_type": "stream",
     "text": [
      "{'input_ids': tensor([[   0, 2264,   16,  ...,    1,    1,    1],\n",
      "        [   0, 6179,  473,  ...,    1,    1,    1]]), 'labels': tensor([[    0,   387, 11328,  ...,     1,     1,     1],\n",
      "        [    0,   387, 11328,  ...,     1,     1,     1]])}\n"
     ]
    },
    {
     "name": "stderr",
     "output_type": "stream",
     "text": [
      "\n"
     ]
    }
   ],
   "source": [
    "from tqdm import tqdm\n",
    "for batch in tqdm(train_dataloader, desc=f\"Test Data\"):\n",
    "    print(batch)\n",
    "    input_ids = batch[\"input_ids\"]\n",
    "    labels = batch[\"labels\"]\n",
    "    \n",
    "    break"
   ]
  },
  {
   "cell_type": "code",
   "execution_count": null,
   "metadata": {},
   "outputs": [],
   "source": [
    "# for i, batch in enumerate(tqdm(self.train_loader)):\n",
    "#                 input_ids, token_type_ids, labels = batch\n",
    "#                 input_ids = input_ids.to(self.args['device'])\n",
    "#                 token_type_ids = token_type_ids.to(self.args['device'])\n",
    "#                 labels = labels.to(self.args['device'])\n",
    "\n",
    "#                 outputs = self.model(\n",
    "#                     input_ids=input_ids,\n",
    "#                     token_type_ids=token_type_ids,\n",
    "#                     labels=labels\n",
    "#                 )"
   ]
  },
  {
   "cell_type": "code",
   "execution_count": 4,
   "metadata": {},
   "outputs": [
    {
     "name": "stderr",
     "output_type": "stream",
     "text": [
      "Epoch 1/3: 100%|██████████| 2/2 [00:12<00:00,  6.20s/it]\n"
     ]
    },
    {
     "name": "stdout",
     "output_type": "stream",
     "text": [
      "Epoch 1, Loss: 14.8957\n"
     ]
    },
    {
     "name": "stderr",
     "output_type": "stream",
     "text": [
      "Epoch 2/3: 100%|██████████| 2/2 [00:09<00:00,  4.90s/it]\n"
     ]
    },
    {
     "name": "stdout",
     "output_type": "stream",
     "text": [
      "Epoch 2, Loss: 12.5624\n"
     ]
    },
    {
     "name": "stderr",
     "output_type": "stream",
     "text": [
      "Epoch 3/3: 100%|██████████| 2/2 [00:12<00:00,  6.17s/it]"
     ]
    },
    {
     "name": "stdout",
     "output_type": "stream",
     "text": [
      "Epoch 3, Loss: 11.6336\n",
      "Training Completed!\n"
     ]
    },
    {
     "name": "stderr",
     "output_type": "stream",
     "text": [
      "\n"
     ]
    }
   ],
   "source": [
    "from tqdm import tqdm\n",
    "num_epochs = 3\n",
    "model.train()\n",
    "\n",
    "for epoch in range(num_epochs):\n",
    "    total_loss = 0\n",
    "\n",
    "    for i,batch in enumerate(tqdm(train_dataloader, desc=f\"Epoch {epoch+1}/{num_epochs}\")):\n",
    "        input_ids = batch[\"input_ids\"]\n",
    "        labels = batch[\"labels\"]\n",
    "        optimizer.zero_grad()\n",
    "\n",
    "        # Forward pass\n",
    "        outputs = model(input_ids=input_ids, labels=labels)\n",
    "        loss = outputs.loss\n",
    "        total_loss += loss.item()\n",
    "\n",
    "        # Backward pass\n",
    "        loss.backward()\n",
    "        optimizer.step()\n",
    "\n",
    "    avg_loss = total_loss / len(train_dataloader)\n",
    "    print(f\"Epoch {epoch+1}, Loss: {avg_loss:.4f}\")\n",
    "\n",
    "print(\"Training Completed!\")\n"
   ]
  },
  {
   "cell_type": "code",
   "execution_count": 5,
   "metadata": {},
   "outputs": [
    {
     "name": "stdout",
     "output_type": "stream",
     "text": [
      "Predicted Answer: What is deep learning? learning subset of machine learning. uses neural networks to learn from data.\n"
     ]
    }
   ],
   "source": [
    "def predict_answer(model, tokenizer, question, context):\n",
    "    model.eval()\n",
    "    inputs = tokenizer(question, context, return_tensors=\"pt\")\n",
    "    \n",
    "    with torch.no_grad():\n",
    "        outputs = model(**inputs)\n",
    "    \n",
    "    predicted_token_ids = outputs.logits.argmax(dim=-1)\n",
    "    answer = tokenizer.decode(predicted_token_ids[0], skip_special_tokens=True)\n",
    "    \n",
    "    return answer\n",
    "\n",
    "# Example Usage\n",
    "question = \"What is deep learning?\"\n",
    "context = \"Deep learning is a subset of machine learning that uses neural networks to learn from data.\"\n",
    "\n",
    "answer = predict_answer(model, tokenizer, question, context)\n",
    "print(\"Predicted Answer:\", answer)\n"
   ]
  },
  {
   "cell_type": "code",
   "execution_count": null,
   "metadata": {},
   "outputs": [],
   "source": []
  }
 ],
 "metadata": {
  "kernelspec": {
   "display_name": "lmedr_3",
   "language": "python",
   "name": "python3"
  },
  "language_info": {
   "codemirror_mode": {
    "name": "ipython",
    "version": 3
   },
   "file_extension": ".py",
   "mimetype": "text/x-python",
   "name": "python",
   "nbconvert_exporter": "python",
   "pygments_lexer": "ipython3",
   "version": "3.10.16"
  }
 },
 "nbformat": 4,
 "nbformat_minor": 2
}
